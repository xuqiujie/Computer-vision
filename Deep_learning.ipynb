{
 "cells": [
  {
   "cell_type": "code",
   "execution_count": 1,
   "metadata": {},
   "outputs": [],
   "source": [
    "#基本包导入\n",
    "import numpy as np\n",
    "import time\n",
    "import tensorflow as tf\n",
    "\n",
    "#调用显卡内存分配指令需要的包\n",
    "from tensorflow.compat.v1 import ConfigProto\n",
    "from tensorflow.compat.v1 import InteractiveSession\n",
    "\n",
    "#关键功能导入\n",
    "from tensorflow import keras\n",
    "from tensorflow.keras.utils import to_categorical\n",
    "from tensorflow.keras.datasets import cifar10\n",
    "\n",
    "#实时数据增强功能 \n",
    "from tensorflow.keras.preprocessing.image import ImageDataGenerator\n",
    "\n",
    "#显卡内存分配指令：按需分配 \n",
    "config = ConfigProto()\n",
    "config.gpu_options.allow_growth = True\n",
    "session = InteractiveSession(config=config)"
   ]
  },
  {
   "cell_type": "code",
   "execution_count": 2,
   "metadata": {},
   "outputs": [],
   "source": [
    "#z-score标准化转换 用来把训练和测试集的数据标准化的z-score方法  训练的快一些\n",
    "def normalization(x_img_train, x_img_test):\n",
    "    mean = np.mean(x_img_train, axis=(0, 1, 2, 3))#四个维度 批数 像素x像素 通道数\n",
    "    std = np.std(x_img_train, axis=(0, 1, 2, 3))\n",
    "    #测试集做一致的标准化 用到的均值和标准差 服从train的分布（有信息杂糅的可能）\n",
    "    x_img_train = (x_img_train - mean) / (std + 1e-7)#trick 加小数点 避免出现整数 \n",
    "    x_img_test = (x_img_test - mean) / (std + 1e-7) \n",
    "    #我觉得从统计学角度来讲，train test分布一致，所以可以这样做\n",
    "    return x_img_train, x_img_test \n",
    "\n",
    "#数据读取\n",
    "def load_images():\n",
    "    (x_img_train, y_label_train), (x_img_test, y_label_test) = cifar10.load_data()\n",
    "\n",
    "    x_img_train = x_img_train.astype(np.float32)#数据类型转换\n",
    "    x_img_test = x_img_test.astype(np.float32)\n",
    "\n",
    "    (x_img_train, x_img_test) = normalization(x_img_train, x_img_test)\n",
    "\n",
    "    y_label_train = to_categorical(y_label_train, 10)#one-hot\n",
    "    y_label_test = to_categorical(y_label_test, 10)\n",
    "    \n",
    "    return x_img_train, y_label_train, x_img_test, y_label_test"
   ]
  },
  {
   "cell_type": "code",
   "execution_count": 3,
   "metadata": {},
   "outputs": [],
   "source": [
    "class ConvBNRelu(tf.keras.Model): \n",
    "    def __init__(self, filters, kernel_size=3, strides=1, padding='SAME', weight_decay=0.0005, rate=0.5, drop=True):\n",
    "        \n",
    "        #对继承自父类tf.keras.Model的属性进行初始化。而且是用tf.keras.Model的初始化方法来初始化继承的属性。TF要求这么写 后面放了链接\n",
    "        super(ConvBNRelu, self).__init__() \n",
    "        self.drop = drop         \n",
    "        self.conv = keras.layers.Conv2D(filters=filters, kernel_size=kernel_size, strides=strides,\n",
    "                                        padding=padding, kernel_regularizer=tf.keras.regularizers.l2(weight_decay))\n",
    "        self.batchnorm = tf.keras.layers.BatchNormalization()\n",
    "        self.dropOut = keras.layers.Dropout(rate=rate)\n",
    "        \n",
    "        \n",
    "#自定义函数api，必须用call方法 用于指定由层完成的计算。（无奈） \n",
    "#https://tensorflow.google.cn/guide/keras/functional#%E4%BD%BF%E7%94%A8%E8%87%AA%E5%AE%9A%E4%B9%89%E5%B1%82%E6%89%A9%E5%B1%95_api\n",
    "    def call(self, inputs):#, training=False\n",
    "        layer = self.conv(inputs) #第一个输入永远是inputs\n",
    "        layer = tf.nn.relu(layer) #引用前面处理的layer有点像搭积木\n",
    "        layer = self.batchnorm(layer)\n",
    "        \n",
    "        #用来控制conv是否有dropout层，对应类ConvBNRelu中的self.drop属性\n",
    "        if self.drop:\n",
    "            layer = self.dropOut(layer)\n",
    "\n",
    "        return layer"
   ]
  },
  {
   "cell_type": "code",
   "execution_count": 4,
   "metadata": {},
   "outputs": [],
   "source": [
    "#核心模型类 VGG16结构其实变得不是特别大\n",
    "class VGG16Model(tf.keras.Model):\n",
    "    def __init__(self):\n",
    "        super(VGG16Model, self).__init__()\n",
    "        self.conv1 = ConvBNRelu(filters=64, kernel_size=[3, 3], rate=0.3)\n",
    "        self.conv2 = ConvBNRelu(filters=64, kernel_size=[3, 3], drop=False)\n",
    "        self.maxPooling1 = keras.layers.MaxPooling2D(pool_size=(2, 2))\n",
    "        self.conv3 = ConvBNRelu(filters=128, kernel_size=[3, 3])\n",
    "        self.conv4 = ConvBNRelu(filters=128, kernel_size=[3, 3], drop=False)\n",
    "        self.maxPooling2 = keras.layers.MaxPooling2D(pool_size=(2, 2))\n",
    "        self.conv5 = ConvBNRelu(filters=256, kernel_size=[3, 3])\n",
    "        self.conv6 = ConvBNRelu(filters=256, kernel_size=[3, 3])\n",
    "        self.conv7 = ConvBNRelu(filters=256, kernel_size=[3, 3], drop=False)\n",
    "        self.maxPooling3 = keras.layers.MaxPooling2D(pool_size=(2, 2))\n",
    "        self.conv11 = ConvBNRelu(filters=512, kernel_size=[3, 3])\n",
    "        self.conv12 = ConvBNRelu(filters=512, kernel_size=[3, 3])\n",
    "        self.conv13 = ConvBNRelu(filters=512, kernel_size=[3, 3], drop=False)\n",
    "        self.maxPooling5 = keras.layers.MaxPooling2D(pool_size=(2, 2))\n",
    "        self.conv14 = ConvBNRelu(filters=512, kernel_size=[3, 3])\n",
    "        self.conv15 = ConvBNRelu(filters=512, kernel_size=[3, 3])\n",
    "        self.conv16 = ConvBNRelu(filters=512, kernel_size=[3, 3], drop=False)\n",
    "        self.maxPooling6 = keras.layers.MaxPooling2D(pool_size=(2, 2))\n",
    "        self.flat = keras.layers.Flatten()\n",
    "        self.dropOut = keras.layers.Dropout(rate=0.5)\n",
    "\n",
    "        #正则化加在MLP中做，之前只在conv中做，此外只用一层隐藏层，因为之前过拟合(test_Accuracy-0.78)。\n",
    "        self.dense1 = keras.layers.Dense(units=512,\n",
    "                                         activation='relu', kernel_regularizer=tf.keras.regularizers.l2(0.0005))\n",
    "        self.batchnorm = tf.keras.layers.BatchNormalization()\n",
    "        self.dense2 = keras.layers.Dense(units=100)\n",
    "        self.softmax = keras.layers.Activation('softmax')\n",
    "\n",
    "    def call(self, inputs):#, training=False\n",
    "        net = self.conv1(inputs) #输入input，后面net接net一层层\n",
    "        net = self.conv2(net)\n",
    "        net = self.maxPooling1(net)\n",
    "        net = self.conv3(net)\n",
    "        net = self.conv4(net)\n",
    "        net = self.maxPooling2(net)\n",
    "        net = self.conv5(net)\n",
    "        net = self.conv6(net)\n",
    "        net = self.conv7(net)\n",
    "        net = self.maxPooling3(net)\n",
    "        net = self.conv11(net)\n",
    "        net = self.conv12(net)\n",
    "        net = self.conv13(net)\n",
    "        net = self.maxPooling5(net)\n",
    "        net = self.conv14(net)\n",
    "        net = self.conv15(net)\n",
    "        net = self.conv16(net)\n",
    "        net = self.maxPooling6(net)\n",
    "        net = self.dropOut(net)\n",
    "        net = self.flat(net)\n",
    "        net = self.dense1(net)\n",
    "        net = self.batchnorm(net)\n",
    "        net = self.dropOut(net)\n",
    "        net = self.dense2(net)\n",
    "        net = self.softmax(net)\n",
    "        return net"
   ]
  },
  {
   "cell_type": "code",
   "execution_count": 9,
   "metadata": {},
   "outputs": [],
   "source": [
    "#VGG13\n",
    "class VGG13Model(tf.keras.Model):\n",
    "    def __init__(self):\n",
    "        super(VGG13Model, self).__init__()\n",
    "        self.conv1 = ConvBNRelu(filters=64, kernel_size=[3, 3], rate=0.3)\n",
    "        self.conv2 = ConvBNRelu(filters=64, kernel_size=[3, 3], drop=False)\n",
    "        self.maxPooling1 = keras.layers.MaxPooling2D(pool_size=(2, 2))\n",
    "        self.conv3 = ConvBNRelu(filters=128, kernel_size=[3, 3])\n",
    "        self.conv4 = ConvBNRelu(filters=128, kernel_size=[3, 3], drop=False)\n",
    "        self.maxPooling2 = keras.layers.MaxPooling2D(pool_size=(2, 2))\n",
    "        self.conv5 = ConvBNRelu(filters=256, kernel_size=[3, 3])\n",
    "        self.conv6 = ConvBNRelu(filters=256, kernel_size=[3, 3])\n",
    "\n",
    "        self.maxPooling3 = keras.layers.MaxPooling2D(pool_size=(2, 2))\n",
    "        self.conv11 = ConvBNRelu(filters=512, kernel_size=[3, 3])\n",
    "        self.conv12 = ConvBNRelu(filters=512, kernel_size=[3, 3])\n",
    "\n",
    "        self.maxPooling5 = keras.layers.MaxPooling2D(pool_size=(2, 2))\n",
    "        self.conv14 = ConvBNRelu(filters=512, kernel_size=[3, 3])\n",
    "        self.conv15 = ConvBNRelu(filters=512, kernel_size=[3, 3])\n",
    "\n",
    "        self.maxPooling6 = keras.layers.MaxPooling2D(pool_size=(2, 2))\n",
    "        self.flat = keras.layers.Flatten()\n",
    "        self.dropOut = keras.layers.Dropout(rate=0.5)\n",
    "\n",
    "        #正则化加在MLP中做，之前只在conv中做，此外只用一层隐藏层，因为之前过拟合(test_Accuracy-0.78)。\n",
    "        self.dense1 = keras.layers.Dense(units=512,\n",
    "                                         activation='relu', kernel_regularizer=tf.keras.regularizers.l2(0.0005))\n",
    "        self.batchnorm = tf.keras.layers.BatchNormalization()\n",
    "        self.dense2 = keras.layers.Dense(units=100)\n",
    "        self.softmax = keras.layers.Activation('softmax')\n",
    "\n",
    "    def call(self, inputs):#, training=False\n",
    "        net = self.conv1(inputs) #输入input，后面net接net一层层\n",
    "        net = self.conv2(net)\n",
    "        net = self.maxPooling1(net)\n",
    "        net = self.conv3(net)\n",
    "        net = self.conv4(net)\n",
    "        net = self.maxPooling2(net)\n",
    "        net = self.conv5(net)\n",
    "        net = self.conv6(net)\n",
    "        #net = self.conv7(net)\n",
    "        net = self.maxPooling3(net)\n",
    "        net = self.conv11(net)\n",
    "        net = self.conv12(net)\n",
    "        #net = self.conv13(net)\n",
    "        net = self.maxPooling5(net)\n",
    "        net = self.conv14(net)\n",
    "        net = self.conv15(net)\n",
    "        #net = self.conv16(net)\n",
    "        net = self.maxPooling6(net)\n",
    "        net = self.dropOut(net)\n",
    "        net = self.flat(net)\n",
    "        net = self.dense1(net)\n",
    "        net = self.batchnorm(net)\n",
    "        net = self.dropOut(net)\n",
    "        net = self.dense2(net)\n",
    "        net = self.softmax(net)\n",
    "        return net"
   ]
  },
  {
   "cell_type": "code",
   "execution_count": 11,
   "metadata": {},
   "outputs": [],
   "source": [
    "#核心模型类 VGG19结构其实变得不是特别大\n",
    "class VGG19Model(tf.keras.Model):\n",
    "    def __init__(self):\n",
    "        super(VGG19Model, self).__init__()\n",
    "        self.conv1 = ConvBNRelu(filters=64, kernel_size=[3, 3], rate=0.3)\n",
    "        self.conv2 = ConvBNRelu(filters=64, kernel_size=[3, 3], drop=False)\n",
    "        self.maxPooling1 = keras.layers.MaxPooling2D(pool_size=(2, 2))\n",
    "        self.conv3 = ConvBNRelu(filters=128, kernel_size=[3, 3])\n",
    "        self.conv4 = ConvBNRelu(filters=128, kernel_size=[3, 3], drop=False)\n",
    "        self.maxPooling2 = keras.layers.MaxPooling2D(pool_size=(2, 2))\n",
    "        self.conv5 = ConvBNRelu(filters=256, kernel_size=[3, 3])\n",
    "        self.conv6 = ConvBNRelu(filters=256, kernel_size=[3, 3])\n",
    "        self.conv7 = ConvBNRelu(filters=256, kernel_size=[3, 3])\n",
    "        self.conv8 = ConvBNRelu(filters=256, kernel_size=[3, 3], drop=False)\n",
    "        self.maxPooling3 = keras.layers.MaxPooling2D(pool_size=(2, 2))\n",
    "        self.conv10 = ConvBNRelu(filters=512, kernel_size=[3, 3])\n",
    "        self.conv11 = ConvBNRelu(filters=512, kernel_size=[3, 3])\n",
    "        self.conv12 = ConvBNRelu(filters=512, kernel_size=[3, 3])\n",
    "        self.conv13 = ConvBNRelu(filters=512, kernel_size=[3, 3], drop=False)\n",
    "        self.maxPooling5 = keras.layers.MaxPooling2D(pool_size=(2, 2))\n",
    "        self.conv14 = ConvBNRelu(filters=512, kernel_size=[3, 3])\n",
    "        self.conv15 = ConvBNRelu(filters=512, kernel_size=[3, 3])\n",
    "        self.conv16 = ConvBNRelu(filters=512, kernel_size=[3, 3])\n",
    "        self.conv17 = ConvBNRelu(filters=512, kernel_size=[3, 3], drop=False)\n",
    "        self.maxPooling6 = keras.layers.MaxPooling2D(pool_size=(2, 2))\n",
    "        self.flat = keras.layers.Flatten()\n",
    "        self.dropOut = keras.layers.Dropout(rate=0.5)\n",
    "\n",
    "        #正则化加在MLP中做，之前只在conv中做，此外只用一层隐藏层，因为之前过拟合(test_Accuracy-0.78)。\n",
    "        self.dense1 = keras.layers.Dense(units=512,\n",
    "                                         activation='relu', kernel_regularizer=tf.keras.regularizers.l2(0.0005))\n",
    "        self.batchnorm = tf.keras.layers.BatchNormalization()\n",
    "        self.dense2 = keras.layers.Dense(units=100)\n",
    "        self.softmax = keras.layers.Activation('softmax')\n",
    "\n",
    "    def call(self, inputs):#, training=False\n",
    "        net = self.conv1(inputs) #输入input，后面net接net一层层\n",
    "        net = self.conv2(net)\n",
    "        net = self.maxPooling1(net)\n",
    "        net = self.conv3(net)\n",
    "        net = self.conv4(net)\n",
    "        net = self.maxPooling2(net)\n",
    "        net = self.conv5(net)\n",
    "        net = self.conv6(net)\n",
    "        net = self.conv7(net)\n",
    "        net = self.conv8(net)\n",
    "        net = self.maxPooling3(net)\n",
    "        net = self.conv10(net)\n",
    "        net = self.conv11(net)\n",
    "        net = self.conv12(net)\n",
    "        net = self.conv13(net)\n",
    "        net = self.maxPooling5(net)\n",
    "        net = self.conv14(net)\n",
    "        net = self.conv15(net)\n",
    "        net = self.conv16(net)\n",
    "        net = self.conv17(net)\n",
    "        net = self.maxPooling6(net)\n",
    "        net = self.dropOut(net)\n",
    "        net = self.flat(net)\n",
    "        net = self.dense1(net)\n",
    "        net = self.batchnorm(net)\n",
    "        net = self.dropOut(net)\n",
    "        net = self.dense2(net)\n",
    "        net = self.softmax(net)\n",
    "        return net"
   ]
  },
  {
   "cell_type": "code",
   "execution_count": 6,
   "metadata": {},
   "outputs": [
    {
     "name": "stdout",
     "output_type": "stream",
     "text": [
      "tf.__version__: 2.10.0\n",
      "keras.__version__: 2.10.0\n"
     ]
    }
   ],
   "source": [
    "\n",
    "    #两个版本接近点好 2.4.1 & 2.4.0\n",
    "print('tf.__version__:',tf.__version__)\n",
    "print('keras.__version__:',keras.__version__)\n",
    "\n",
    "\n",
    "    #超参数\n",
    "training_epochs = 2\n",
    "batch_size = 96\n",
    "learning_rate = 0.1\n",
    "momentum = 0.9 #SGD加速动量\n",
    "lr_decay = 1e-6 #学习衰减\n",
    "lr_drop = 20 #衰减倍数\n",
    "\n",
    "tf.random.set_seed(777)#可复现~\n",
    "\n",
    "    \n",
    "\n",
    "    "
   ]
  },
  {
   "cell_type": "code",
   "execution_count": 7,
   "metadata": {},
   "outputs": [],
   "source": [
    "def lr_scheduler(epoch): #动态学习率衰减，epoch越大，lr衰减越剧烈。\n",
    "        return learning_rate * (0.5 ** (epoch // lr_drop))\n",
    "\n",
    "reduce_lr = keras.callbacks.LearningRateScheduler(lr_scheduler)\n",
    "\n",
    "x_img_train, y_label_train, x_img_test, y_label_test = load_images()\n",
    "    # 实时数据增强 只做了随机水平翻转 和随机旋转。 \n",
    "datagen = ImageDataGenerator(\n",
    "        featurewise_center=False,  # 布尔值。将输入数据的均值设置为 0，逐特征进行。\n",
    "        samplewise_center=False,  # 布尔值。将每个样本的均值设置为 0。\n",
    "        featurewise_std_normalization=False,  # 布尔值。将输入除以数据标准差，逐特征进行。\n",
    "        samplewise_std_normalization=False,  # 布尔值。将每个输入除以其标准差。\n",
    "        zca_whitening=False,  # 布尔值。是否应用 ZCA 白化。\n",
    "        #zca_epsilon  ZCA 白化的 epsilon 值，默认为 1e-6。\n",
    "        rotation_range=15,  # 整数。随机旋转的度数范围 (degrees, 0 to 180)\n",
    "        width_shift_range=0.1,  # randomly shift images horizontally (fraction of total width)\n",
    "        height_shift_range=0.1,  # randomly shift images vertically (fraction of total height)\n",
    "        horizontal_flip=True,  # 布尔值。随机水平翻转。\n",
    "        vertical_flip=False)  # 布尔值。随机垂直翻转。\n",
    "\n",
    "datagen.fit(x_img_train)"
   ]
  },
  {
   "cell_type": "code",
   "execution_count": 10,
   "metadata": {},
   "outputs": [
    {
     "data": {
      "text/plain": [
       "numpy.ndarray"
      ]
     },
     "execution_count": 10,
     "metadata": {},
     "output_type": "execute_result"
    }
   ],
   "source": [
    "type(x_img_train)"
   ]
  },
  {
   "cell_type": "code",
   "execution_count": 12,
   "metadata": {},
   "outputs": [
    {
     "name": "stdout",
     "output_type": "stream",
     "text": [
      "Model: \"vgg19_model\"\n",
      "_________________________________________________________________\n",
      " Layer (type)                Output Shape              Param #   \n",
      "=================================================================\n",
      " conv_bn_relu_36 (ConvBNRelu  multiple                 2048      \n",
      " )                                                               \n",
      "                                                                 \n",
      " conv_bn_relu_37 (ConvBNRelu  multiple                 37184     \n",
      " )                                                               \n",
      "                                                                 \n",
      " max_pooling2d_15 (MaxPoolin  multiple                 0         \n",
      " g2D)                                                            \n",
      "                                                                 \n",
      " conv_bn_relu_38 (ConvBNRelu  multiple                 74368     \n",
      " )                                                               \n",
      "                                                                 \n",
      " conv_bn_relu_39 (ConvBNRelu  multiple                 148096    \n",
      " )                                                               \n",
      "                                                                 \n",
      " max_pooling2d_16 (MaxPoolin  multiple                 0         \n",
      " g2D)                                                            \n",
      "                                                                 \n",
      " conv_bn_relu_40 (ConvBNRelu  multiple                 296192    \n",
      " )                                                               \n",
      "                                                                 \n",
      " conv_bn_relu_41 (ConvBNRelu  multiple                 591104    \n",
      " )                                                               \n",
      "                                                                 \n",
      " conv_bn_relu_42 (ConvBNRelu  multiple                 591104    \n",
      " )                                                               \n",
      "                                                                 \n",
      " conv_bn_relu_43 (ConvBNRelu  multiple                 591104    \n",
      " )                                                               \n",
      "                                                                 \n",
      " max_pooling2d_17 (MaxPoolin  multiple                 0         \n",
      " g2D)                                                            \n",
      "                                                                 \n",
      " conv_bn_relu_44 (ConvBNRelu  multiple                 1182208   \n",
      " )                                                               \n",
      "                                                                 \n",
      " conv_bn_relu_45 (ConvBNRelu  multiple                 2361856   \n",
      " )                                                               \n",
      "                                                                 \n",
      " conv_bn_relu_46 (ConvBNRelu  multiple                 2361856   \n",
      " )                                                               \n",
      "                                                                 \n",
      " conv_bn_relu_47 (ConvBNRelu  multiple                 2361856   \n",
      " )                                                               \n",
      "                                                                 \n",
      " max_pooling2d_18 (MaxPoolin  multiple                 0         \n",
      " g2D)                                                            \n",
      "                                                                 \n",
      " conv_bn_relu_48 (ConvBNRelu  multiple                 2361856   \n",
      " )                                                               \n",
      "                                                                 \n",
      " conv_bn_relu_49 (ConvBNRelu  multiple                 2361856   \n",
      " )                                                               \n",
      "                                                                 \n",
      " conv_bn_relu_50 (ConvBNRelu  multiple                 2361856   \n",
      " )                                                               \n",
      "                                                                 \n",
      " conv_bn_relu_51 (ConvBNRelu  multiple                 2361856   \n",
      " )                                                               \n",
      "                                                                 \n",
      " max_pooling2d_19 (MaxPoolin  multiple                 0         \n",
      " g2D)                                                            \n",
      "                                                                 \n",
      " flatten_3 (Flatten)         multiple                  0         \n",
      "                                                                 \n",
      " dropout_55 (Dropout)        multiple                  0         \n",
      "                                                                 \n",
      " dense_6 (Dense)             multiple                  262656    \n",
      "                                                                 \n",
      " batch_normalization_55 (Bat  multiple                 2048      \n",
      " chNormalization)                                                \n",
      "                                                                 \n",
      " dense_7 (Dense)             multiple                  51300     \n",
      "                                                                 \n",
      " activation_3 (Activation)   multiple                  0         \n",
      "                                                                 \n",
      "=================================================================\n",
      "Total params: 20,362,404\n",
      "Trainable params: 20,350,372\n",
      "Non-trainable params: 12,032\n",
      "_________________________________________________________________\n"
     ]
    }
   ],
   "source": [
    "model = VGG19Model()#调用模型\n",
    "optimizer = tf.keras.optimizers.SGD(learning_rate=learning_rate,\n",
    "                                        decay=1e-6, momentum=momentum, nesterov=True)\n",
    "    #交换熵、自定义优化器，评价标准。\n",
    "model.compile(loss='categorical_crossentropy', optimizer=optimizer, metrics=['accuracy'])\n",
    "model.build(input_shape=[None,32,32,3])\n",
    "model.summary()"
   ]
  },
  {
   "cell_type": "code",
   "execution_count": 8,
   "metadata": {},
   "outputs": [],
   "source": [
    "from keras.backend import set_session\n",
    "from keras.backend import clear_session\n",
    "from keras.backend import get_session\n",
    "import tensorflow as tf\n",
    "import gc\n",
    " \n",
    "# Reset Keras Session\n",
    "def reset_keras():\n",
    "    sess = get_session()\n",
    "    clear_session()\n",
    "    sess.close()\n",
    "    sess = get_session()\n",
    " \n",
    "    try:\n",
    "        del classifier # this is from global space - change this as you need\n",
    "    except:\n",
    "        pass\n",
    " \n",
    "    print(gc.collect()) # if it does something you should see a number as output\n",
    " \n",
    "    # use the same config as you used to create the session\n",
    "    config = tf.compat.v1.ConfigProto()\n",
    "    config.gpu_options.per_process_gpu_memory_fraction = 1\n",
    "    config.gpu_options.visible_device_list = \"0\"\n",
    "    set_session(tf.compat.v1.Session(config=config))"
   ]
  },
  {
   "cell_type": "code",
   "execution_count": 9,
   "metadata": {},
   "outputs": [
    {
     "name": "stdout",
     "output_type": "stream",
     "text": [
      "21\n",
      "Epoch 1/2\n"
     ]
    },
    {
     "ename": "",
     "evalue": "",
     "output_type": "error",
     "traceback": [
      "\u001b[1;31mThe Kernel crashed while executing code in the current cell or a previous cell. \n",
      "\u001b[1;31mPlease review the code in the cell(s) to identify a possible cause of the failure. \n",
      "\u001b[1;31mClick <a href='https://aka.ms/vscodeJupyterKernelCrash'>here</a> for more info. \n",
      "\u001b[1;31mView Jupyter <a href='command:jupyter.viewOutput'>log</a> for further details."
     ]
    }
   ],
   "source": [
    "\n",
    "    \n",
    "\n",
    "\n",
    "    #validation_data=(x_img_test, y_label_test) 实时的用test测试，只是为了方便观察所以如此，不影响训练过程。\n",
    "\n",
    "reset_keras()\n",
    "t1=time.time()\n",
    "model.fit(datagen.flow(x_img_train, y_label_train,\n",
    "                                     batch_size=batch_size), epochs=training_epochs, verbose=2, callbacks=[reduce_lr],\n",
    "                        steps_per_epoch=x_img_train.shape[0] // batch_size, validation_data=(x_img_test, y_label_test))   \n",
    "t2=time.time()\n",
    "CNNfit = float(t2-t1)\n",
    "print(\"Time taken: {} seconds\".format(CNNfit))"
   ]
  },
  {
   "cell_type": "code",
   "execution_count": 10,
   "metadata": {},
   "outputs": [
    {
     "name": "stdout",
     "output_type": "stream",
     "text": [
      "778\n"
     ]
    },
    {
     "data": {
      "text/plain": [
       "0.44609999656677246"
      ]
     },
     "execution_count": 10,
     "metadata": {},
     "output_type": "execute_result"
    }
   ],
   "source": [
    "reset_keras()\n",
    "scores = model.evaluate(x_img_test, \n",
    "                        y_label_test, verbose=0)\n",
    "scores[1]"
   ]
  },
  {
   "cell_type": "code",
   "execution_count": 13,
   "metadata": {},
   "outputs": [
    {
     "data": {
      "text/plain": [
       "[2.4532501697540283, 0.44609999656677246]"
      ]
     },
     "execution_count": 13,
     "metadata": {},
     "output_type": "execute_result"
    }
   ],
   "source": [
    "scores"
   ]
  },
  {
   "cell_type": "code",
   "execution_count": 12,
   "metadata": {},
   "outputs": [
    {
     "name": "stdout",
     "output_type": "stream",
     "text": [
      "783\n"
     ]
    },
    {
     "ename": "InternalError",
     "evalue": "Failed copying input tensor from /job:localhost/replica:0/task:0/device:GPU:0 to /job:localhost/replica:0/task:0/device:CPU:0 in order to run TensorDataset: Dst tensor is not initialized. [Op:TensorDataset]",
     "output_type": "error",
     "traceback": [
      "\u001b[1;31m---------------------------------------------------------------------------\u001b[0m",
      "\u001b[1;31mInternalError\u001b[0m                             Traceback (most recent call last)",
      "\u001b[1;32m~\\AppData\\Local\\Temp\\ipykernel_4108\\2649659398.py\u001b[0m in \u001b[0;36m<module>\u001b[1;34m\u001b[0m\n\u001b[0;32m      1\u001b[0m \u001b[0mreset_keras\u001b[0m\u001b[1;33m(\u001b[0m\u001b[1;33m)\u001b[0m\u001b[1;33m\u001b[0m\u001b[1;33m\u001b[0m\u001b[0m\n\u001b[1;32m----> 2\u001b[1;33m \u001b[0mpredictions\u001b[0m \u001b[1;33m=\u001b[0m \u001b[0mmodel\u001b[0m\u001b[1;33m.\u001b[0m\u001b[0mpredict\u001b[0m\u001b[1;33m(\u001b[0m\u001b[0mx_img_test\u001b[0m\u001b[1;33m)\u001b[0m\u001b[1;33m\u001b[0m\u001b[1;33m\u001b[0m\u001b[0m\n\u001b[0m\u001b[0;32m      3\u001b[0m \u001b[0mpredictions_class\u001b[0m \u001b[1;33m=\u001b[0m \u001b[0mnp\u001b[0m\u001b[1;33m.\u001b[0m\u001b[0margmax\u001b[0m\u001b[1;33m(\u001b[0m\u001b[0mpredictions\u001b[0m\u001b[1;33m,\u001b[0m \u001b[0maxis\u001b[0m\u001b[1;33m=\u001b[0m\u001b[1;36m1\u001b[0m\u001b[1;33m)\u001b[0m\u001b[1;33m\u001b[0m\u001b[1;33m\u001b[0m\u001b[0m\n",
      "\u001b[1;32mc:\\Users\\qiuji\\AppData\\Local\\Programs\\Python\\Python37\\lib\\site-packages\\keras\\utils\\traceback_utils.py\u001b[0m in \u001b[0;36merror_handler\u001b[1;34m(*args, **kwargs)\u001b[0m\n\u001b[0;32m     68\u001b[0m             \u001b[1;31m# To get the full stack trace, call:\u001b[0m\u001b[1;33m\u001b[0m\u001b[1;33m\u001b[0m\u001b[1;33m\u001b[0m\u001b[0m\n\u001b[0;32m     69\u001b[0m             \u001b[1;31m# `tf.debugging.disable_traceback_filtering()`\u001b[0m\u001b[1;33m\u001b[0m\u001b[1;33m\u001b[0m\u001b[1;33m\u001b[0m\u001b[0m\n\u001b[1;32m---> 70\u001b[1;33m             \u001b[1;32mraise\u001b[0m \u001b[0me\u001b[0m\u001b[1;33m.\u001b[0m\u001b[0mwith_traceback\u001b[0m\u001b[1;33m(\u001b[0m\u001b[0mfiltered_tb\u001b[0m\u001b[1;33m)\u001b[0m \u001b[1;32mfrom\u001b[0m \u001b[1;32mNone\u001b[0m\u001b[1;33m\u001b[0m\u001b[1;33m\u001b[0m\u001b[0m\n\u001b[0m\u001b[0;32m     71\u001b[0m         \u001b[1;32mfinally\u001b[0m\u001b[1;33m:\u001b[0m\u001b[1;33m\u001b[0m\u001b[1;33m\u001b[0m\u001b[0m\n\u001b[0;32m     72\u001b[0m             \u001b[1;32mdel\u001b[0m \u001b[0mfiltered_tb\u001b[0m\u001b[1;33m\u001b[0m\u001b[1;33m\u001b[0m\u001b[0m\n",
      "\u001b[1;32m~\\AppData\\Roaming\\Python\\Python37\\site-packages\\tensorflow\\python\\framework\\ops.py\u001b[0m in \u001b[0;36mraise_from_not_ok_status\u001b[1;34m(e, name)\u001b[0m\n\u001b[0;32m   7207\u001b[0m \u001b[1;32mdef\u001b[0m \u001b[0mraise_from_not_ok_status\u001b[0m\u001b[1;33m(\u001b[0m\u001b[0me\u001b[0m\u001b[1;33m,\u001b[0m \u001b[0mname\u001b[0m\u001b[1;33m)\u001b[0m\u001b[1;33m:\u001b[0m\u001b[1;33m\u001b[0m\u001b[1;33m\u001b[0m\u001b[0m\n\u001b[0;32m   7208\u001b[0m   \u001b[0me\u001b[0m\u001b[1;33m.\u001b[0m\u001b[0mmessage\u001b[0m \u001b[1;33m+=\u001b[0m \u001b[1;33m(\u001b[0m\u001b[1;34m\" name: \"\u001b[0m \u001b[1;33m+\u001b[0m \u001b[0mname\u001b[0m \u001b[1;32mif\u001b[0m \u001b[0mname\u001b[0m \u001b[1;32mis\u001b[0m \u001b[1;32mnot\u001b[0m \u001b[1;32mNone\u001b[0m \u001b[1;32melse\u001b[0m \u001b[1;34m\"\"\u001b[0m\u001b[1;33m)\u001b[0m\u001b[1;33m\u001b[0m\u001b[1;33m\u001b[0m\u001b[0m\n\u001b[1;32m-> 7209\u001b[1;33m   \u001b[1;32mraise\u001b[0m \u001b[0mcore\u001b[0m\u001b[1;33m.\u001b[0m\u001b[0m_status_to_exception\u001b[0m\u001b[1;33m(\u001b[0m\u001b[0me\u001b[0m\u001b[1;33m)\u001b[0m \u001b[1;32mfrom\u001b[0m \u001b[1;32mNone\u001b[0m  \u001b[1;31m# pylint: disable=protected-access\u001b[0m\u001b[1;33m\u001b[0m\u001b[1;33m\u001b[0m\u001b[0m\n\u001b[0m\u001b[0;32m   7210\u001b[0m \u001b[1;33m\u001b[0m\u001b[0m\n\u001b[0;32m   7211\u001b[0m \u001b[1;33m\u001b[0m\u001b[0m\n",
      "\u001b[1;31mInternalError\u001b[0m: Failed copying input tensor from /job:localhost/replica:0/task:0/device:GPU:0 to /job:localhost/replica:0/task:0/device:CPU:0 in order to run TensorDataset: Dst tensor is not initialized. [Op:TensorDataset]"
     ]
    }
   ],
   "source": [
    "reset_keras()\n",
    "predictions = model.predict(x_img_test)\n",
    "predictions_class = np.argmax(predictions, batch_size=batch_size，axis=1)"
   ]
  },
  {
   "cell_type": "code",
   "execution_count": 12,
   "metadata": {},
   "outputs": [
    {
     "data": {
      "image/png": "[encoded data removed]",
      "text/plain": [
       "<Figure size 640x480 with 2 Axes>"
      ]
     },
     "metadata": {},
     "output_type": "display_data"
    }
   ],
   "source": [
    "import numpy as np\n",
    "import pandas as pd\n",
    "from sklearn.metrics import confusion_matrix\n",
    "from seaborn import heatmap\n",
    "data = [np.argmax(one_hot)for one_hot in y_label_test]\n",
    "cm = confusion_matrix(predictions_class,data)\n",
    "heat_map = heatmap(cm,annot=True,fmt=\"d\",cmap=\"RdBu_r\")\n",
    "heat_map.figure.savefig(\"result/16_epoch20_batch32.png\")"
   ]
  }
 ],
 "metadata": {
  "kernelspec": {
   "display_name": "Python 3",
   "language": "python",
   "name": "python3"
  },
  "language_info": {
   "codemirror_mode": {
    "name": "ipython",
    "version": 3
   },
   "file_extension": ".py",
   "mimetype": "text/x-python",
   "name": "python",
   "nbconvert_exporter": "python",
   "pygments_lexer": "ipython3",
   "version": "3.7.4"
  }
 },
 "nbformat": 4,
 "nbformat_minor": 2
}
