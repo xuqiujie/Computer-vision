{
 "cells": [
  {
   "cell_type": "code",
   "execution_count": 38,
   "metadata": {},
   "outputs": [],
   "source": [
    "\"\"\"\n",
    "All cell images resized to 128 x 128\n",
    "Images used for test are completely different that the ones used for training.\n",
    "136 images for testing, each parasitized and uninfected (136 x 2)\n",
    "104 images for training, each parasitized and uninfected (104 x 2)\n",
    "\n",
    "Cannot import lots of data to Github, so uploaded 10 images of each.\n",
    "Download full dataset from: ftp://lhcftp.nlm.nih.gov/Open-Access-Datasets/Malaria/cell_images.zip\n",
    "\"\"\"\n",
    "\n",
    "\n",
    "import cv2\n",
    "import numpy as np\n",
    "import os\n",
    "\n",
    "\n",
    "# Get the training classes names and store them in a list\n",
    "#Here we use folder names for class names\n",
    "\n",
    "#train_path = 'dataset/train'  # Names are Aeroplane, Bicycle, Car\n",
    "train_path = 'images/cell_images/train'  # Folder Names are Parasitized and Uninfected\n",
    "training_names = os.listdir(train_path)\n",
    "\n",
    "# Get path to all images and save them in a list\n",
    "# image_paths and the corresponding label in image_paths\n",
    "image_paths = []\n",
    "image_classes = []\n",
    "class_id = 0\n",
    "\n",
    "#To make it easy to list all file names in a directory let us define a function\n",
    "#\n",
    "def imglist(path):    \n",
    "    return [os.path.join(path, f) for f in os.listdir(path)]\n",
    "\n",
    "#Fill the placeholder empty lists with image path, classes, and add class ID number\n",
    "#\n",
    "    \n",
    "for training_name in training_names:\n",
    "    dir = os.path.join(train_path, training_name)\n",
    "    class_path = imglist(dir)\n",
    "    image_paths+=class_path\n",
    "    image_classes+=[class_id]*len(class_path)\n",
    "    class_id+=1"
   ]
  },
  {
   "cell_type": "code",
   "execution_count": 26,
   "metadata": {},
   "outputs": [
    {
     "name": "stdout",
     "output_type": "stream",
     "text": [
      "[0, 0, 0, 0, 0, 0, 0, 0, 0, 0, 1, 1, 1, 1, 1, 1, 1, 1, 1, 1]\n"
     ]
    }
   ],
   "source": [
    "print(image_classes)"
   ]
  },
  {
   "cell_type": "code",
   "execution_count": 39,
   "metadata": {},
   "outputs": [],
   "source": [
    "# Create feature extraction and keypoint detector objects\n",
    "    #SIFT is not available anymore in openCV    \n",
    "# Create List where all the descriptors will be stored\n",
    "des_list = []\n",
    "\n",
    "#BRISK is a good replacement to SIFT. ORB also works but didn;t work well for this example\n",
    "brisk = cv2.BRISK_create(30)\n",
    "\n",
    "for image_path in image_paths:\n",
    "    im = cv2.imread(image_path)\n",
    "    kpts, des = brisk.detectAndCompute(im, None)\n",
    "    des_list.append((image_path, des)) \n",
    "\n",
    "   \n",
    "    \n"
   ]
  },
  {
   "cell_type": "code",
   "execution_count": 40,
   "metadata": {},
   "outputs": [
    {
     "data": {
      "text/plain": [
       "RandomForestClassifier(random_state=30)"
      ]
     },
     "execution_count": 40,
     "metadata": {},
     "output_type": "execute_result"
    }
   ],
   "source": [
    "# Stack all the descriptors vertically in a numpy array\n",
    "descriptors = des_list[0][1]\n",
    "for image_path, descriptor in des_list[1:]:\n",
    "    descriptors = np.vstack((descriptors, descriptor))  \n",
    "\n",
    "#kmeans works only on float, so convert integers to float\n",
    "descriptors_float = descriptors.astype(float)  \n",
    "\n",
    "# Perform k-means clustering and vector quantization\n",
    "from scipy.cluster.vq import kmeans, vq\n",
    "\n",
    "k = 200  #k means with 100 clusters gives lower accuracy for the aeroplane example\n",
    "voc, variance = kmeans(descriptors_float, k, 1) \n",
    "\n",
    "# Calculate the histogram of features and represent them as vector\n",
    "#vq Assigns codes from a code book to observations.\n",
    "im_features = np.zeros((len(image_paths), k), \"float32\")\n",
    "for i in range(len(image_paths)):\n",
    "    words, distance = vq(des_list[i][1],voc)\n",
    "    for w in words:\n",
    "        im_features[i][w] += 1\n",
    "\n",
    "# Perform Tf-Idf vectorization\n",
    "nbr_occurences = np.sum( (im_features > 0) * 1, axis = 0)\n",
    "idf = np.array(np.log((1.0*len(image_paths)+1) / (1.0*nbr_occurences + 1)), 'float32')\n",
    "\n",
    "# Scaling the words\n",
    "#Standardize features by removing the mean and scaling to unit variance\n",
    "#In a way normalization\n",
    "from sklearn.preprocessing import StandardScaler\n",
    "stdSlr = StandardScaler().fit(im_features)\n",
    "im_features = stdSlr.transform(im_features)\n",
    "\n",
    "#Train an algorithm to discriminate vectors corresponding to positive and negative training images\n",
    "# Train the Linear SVM\n",
    "from sklearn.svm import LinearSVC\n",
    "clf = LinearSVC(max_iter=10000)  #Default of 100 is not converging\n",
    "clf.fit(im_features, np.array(image_classes))\n",
    "\n",
    "#Train Random forest to compare how it does against SVM\n",
    "from sklearn.ensemble import RandomForestClassifier\n",
    "clf2 = RandomForestClassifier(n_estimators = 100, random_state=30)\n",
    "clf2.fit(im_features, np.array(image_classes))\n",
    "\n",
    "\n"
   ]
  },
  {
   "cell_type": "code",
   "execution_count": 41,
   "metadata": {},
   "outputs": [],
   "source": [
    "test_path = 'images/cell_images/test'  # Folder Names are Parasitized and Uninfected\n",
    "test_names = os.listdir(train_path)\n",
    "\n",
    "\n",
    "test_image_paths = []\n",
    "test_image_classes = []\n",
    "test_class_id = 0\n",
    "\n",
    "for test_name in test_names:\n",
    "    dir = os.path.join(test_path, test_name)\n",
    "    test_class_path = imglist(dir)\n",
    "    test_image_paths+=test_class_path\n",
    "    test_image_classes+=[test_class_id]*len(test_class_path)\n",
    "    test_class_id+=1"
   ]
  },
  {
   "cell_type": "code",
   "execution_count": 42,
   "metadata": {},
   "outputs": [
    {
     "name": "stdout",
     "output_type": "stream",
     "text": [
      "[0, 0, 0, 0, 0, 0, 0, 0, 0, 0, 1, 1, 1, 1, 1, 1, 1, 1, 1, 1]\n"
     ]
    }
   ],
   "source": [
    "print(test_image_classes)"
   ]
  },
  {
   "cell_type": "code",
   "execution_count": 43,
   "metadata": {},
   "outputs": [],
   "source": [
    "# Create feature extraction and keypoint detector objects\n",
    "    #SIFT is not available anymore in openCV    \n",
    "# Create List where all the descriptors will be stored\n",
    "test_des_list = []\n",
    "\n",
    "for test_image_path in test_image_paths:\n",
    "    im = cv2.imread(test_image_path)\n",
    "    kpts, des = brisk.detectAndCompute(im, None)\n",
    "    test_des_list.append((test_image_path, des)) \n",
    "\n",
    "# Stack all the descriptors vertically in a numpy array\n",
    "test_descriptors = test_des_list[0][1]\n",
    "for test_image_path, test_descriptor in test_des_list[1:]:\n",
    "    test_descriptors = np.vstack((test_descriptors, test_descriptor))  \n",
    "\n",
    "#kmeans works only on float, so convert integers to float\n",
    "test_descriptors_float = test_descriptors.astype(float)  \n",
    "\n",
    "\n"
   ]
  },
  {
   "cell_type": "code",
   "execution_count": 44,
   "metadata": {},
   "outputs": [],
   "source": [
    "t_k = 200  #k means with 100 clusters gives lower accuracy for the aeroplane example\n",
    "t_voc, t_variance = kmeans(test_descriptors_float, t_k, 1) \n",
    "\n",
    "test_im_features = np.zeros((len(test_image_paths), t_k), \"float32\")\n",
    "for i in range(len(test_image_paths)):\n",
    "    words, distance = vq(test_des_list[i][1],t_voc)\n",
    "    for w in words:\n",
    "        test_im_features[i][w] += 1\n",
    "\n",
    "test_nbr_occurences = np.sum( (test_im_features > 0) * 1, axis = 0)\n",
    "test_idf = np.array(np.log((1.0*len(test_image_paths)+1) / (1.0*test_nbr_occurences + 1)), 'float32')\n",
    "\n",
    "test_stdSlr = StandardScaler().fit(test_im_features)\n",
    "test_im_features = test_stdSlr.transform(test_im_features)\n"
   ]
  },
  {
   "cell_type": "code",
   "execution_count": 45,
   "metadata": {},
   "outputs": [
    {
     "name": "stdout",
     "output_type": "stream",
     "text": [
      "[0 0 0 1 0 0 1 0 0 1 1 1 1 0 1 1 0 1 0 1]\n",
      "LinearSVD: 0.7\n",
      "RandomForest: 0.65\n"
     ]
    }
   ],
   "source": [
    "predictions = clf.predict(test_im_features)\n",
    "predictions2 = clf2.predict(test_im_features)\n",
    "print(predictions)\n",
    "from sklearn.metrics import accuracy_score\n",
    "print(\"LinearSVD:\",accuracy_score(test_image_classes, predictions),end='\\n')\n",
    "print(\"RandomForest:\",accuracy_score(test_image_classes, predictions2),end='\\n')"
   ]
  },
  {
   "cell_type": "code",
   "execution_count": 47,
   "metadata": {},
   "outputs": [
    {
     "name": "stdout",
     "output_type": "stream",
     "text": [
      "LinearSVDt: 1.0\n",
      "RandomForestt: 1.0\n"
     ]
    }
   ],
   "source": [
    "predictions_r = clf.predict(im_features)\n",
    "predictions_r2 = clf2.predict(im_features)\n",
    "from sklearn.metrics import accuracy_score\n",
    "print(\"LinearSVDt:\",accuracy_score(image_classes, predictions_r),end='\\n')\n",
    "print(\"RandomForestt:\",accuracy_score(image_classes, predictions_r2),end='\\n')"
   ]
  },
  {
   "cell_type": "code",
   "execution_count": 32,
   "metadata": {},
   "outputs": [
    {
     "name": "stdout",
     "output_type": "stream",
     "text": [
      "[0, 0, 0, 0, 0, 0, 0, 0, 0, 0, 1, 1, 1, 1, 1, 1, 1, 1, 1, 1]\n"
     ]
    }
   ],
   "source": [
    "print(test_image_classes)"
   ]
  },
  {
   "cell_type": "code",
   "execution_count": null,
   "metadata": {},
   "outputs": [],
   "source": [
    "# Save the SVM\n",
    "#Joblib dumps Python object into one file\n",
    "import joblib\n",
    "joblib.dump((clf, training_names, stdSlr, k, voc), \"bovw.pkl\", compress=3)   "
   ]
  }
 ],
 "metadata": {
  "kernelspec": {
   "display_name": "Python 3",
   "language": "python",
   "name": "python3"
  },
  "language_info": {
   "codemirror_mode": {
    "name": "ipython",
    "version": 3
   },
   "file_extension": ".py",
   "mimetype": "text/x-python",
   "name": "python",
   "nbconvert_exporter": "python",
   "pygments_lexer": "ipython3",
   "version": "3.7.4"
  }
 },
 "nbformat": 4,
 "nbformat_minor": 2
}
